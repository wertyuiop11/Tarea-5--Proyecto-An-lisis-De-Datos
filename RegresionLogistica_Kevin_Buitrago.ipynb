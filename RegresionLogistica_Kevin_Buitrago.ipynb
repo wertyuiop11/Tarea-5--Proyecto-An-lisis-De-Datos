{
 "cells": [
  {
   "cell_type": "markdown",
   "id": "0720a10a-5b2d-4781-a598-0a5d45ebc521",
   "metadata": {},
   "source": [
    "# Escuela de Ciencias Básicas, Tecnología e Ingeniería  \n",
    "## 202016908A – Análisis de datos  \n",
    "### Tarea 5 - Proyecto Análisis De Datos  \n",
    "\n",
    "**Nombre del estudiante:**  \n",
    "Kevin Arley Buitrago Maldonado  \n",
    "\n",
    "**Documento de identidad:**  \n",
    "CC. 1002624126  \n",
    "\n",
    "**Nro. de grupo:**  \n",
    "202016908_90  \n",
    "\n",
    "**Presentado a:**  \n",
    "Ing. Angela Bibiana Ortegón Fuentes  \n",
    "\n",
    "**Universidad Nacional Abierta Y A Distancia (UNAD)**  \n",
    "**Escuela De Ciencias Básicas, Tecnología E Ingeniería (ECBTI)**  \n",
    "**Curso: Análisis de datos**  \n",
    "**Diciembre - 2024**  "
   ]
  },
  {
   "cell_type": "code",
   "execution_count": null,
   "id": "f0df40ef-437a-48b4-a266-f8f1419cc2f1",
   "metadata": {},
   "outputs": [],
   "source": [
    "# 1. Cargar y explorar el dataset  \n",
    "En esta sección se cargará el conjunto de datos y se realizará una exploración inicial para entender su estructura, contenido y características principales.  "
   ]
  },
  {
   "cell_type": "code",
   "execution_count": null,
   "id": "598df9b2-2ae2-40b7-8c86-d4a53fec64c0",
   "metadata": {},
   "outputs": [],
   "source": [
    "import pandas as pd\n",
    "import numpy as np\n",
    "import seaborn as sns\n",
    "import matplotlib.pyplot as plt\n",
    "\n",
    "from sklearn.model_selection import train_test_split\n",
    "from sklearn.linear_model import LogisticRegression\n",
    "from sklearn.metrics import accuracy_score, precision_score, recall_score, f1_score, confusion_matrix\n",
    "from sklearn.preprocessing import LabelEncoder\n",
    "\n",
    "# Cargar Datos\n",
    "Data = pd.read_csv('./TitanicDataset.csv')\n",
    "\n",
    "# Mostrar Datos\n",
    "Data.head(5)"
   ]
  },
  {
   "cell_type": "markdown",
   "id": "4cefae9c-1834-4752-90cd-4b411e4943fa",
   "metadata": {},
   "source": [
    "# Descripción de los datos\n",
    "Data.describe()"
   ]
  },
  {
   "cell_type": "code",
   "execution_count": 3,
   "id": "0cb5da81-2d66-42d9-ad14-8f89fda92006",
   "metadata": {},
   "outputs": [],
   "source": [
    "# Manejar datos faltantes\n",
    "Data['Age'].fillna(Data['Age'].mean(), inplace=True)\n",
    "Data['Embarked'].fillna('S', inplace=True)"
   ]
  },
  {
   "cell_type": "code",
   "execution_count": 4,
   "id": "8993c6b6-6178-40c3-a7b8-02e3c2f0e44d",
   "metadata": {},
   "outputs": [
    {
     "data": {
      "text/html": [
       "<div>\n",
       "<style scoped>\n",
       "    .dataframe tbody tr th:only-of-type {\n",
       "        vertical-align: middle;\n",
       "    }\n",
       "\n",
       "    .dataframe tbody tr th {\n",
       "        vertical-align: top;\n",
       "    }\n",
       "\n",
       "    .dataframe thead th {\n",
       "        text-align: right;\n",
       "    }\n",
       "</style>\n",
       "<table border=\"1\" class=\"dataframe\">\n",
       "  <thead>\n",
       "    <tr style=\"text-align: right;\">\n",
       "      <th></th>\n",
       "      <th>PassengerId</th>\n",
       "      <th>Survived</th>\n",
       "      <th>Pclass</th>\n",
       "      <th>Name</th>\n",
       "      <th>Sex</th>\n",
       "      <th>Age</th>\n",
       "      <th>SibSp</th>\n",
       "      <th>Parch</th>\n",
       "      <th>Ticket</th>\n",
       "      <th>Fare</th>\n",
       "      <th>Cabin</th>\n",
       "      <th>Embarked</th>\n",
       "    </tr>\n",
       "  </thead>\n",
       "  <tbody>\n",
       "    <tr>\n",
       "      <th>0</th>\n",
       "      <td>1</td>\n",
       "      <td>0</td>\n",
       "      <td>3</td>\n",
       "      <td>Braund, Mr. Owen Harris</td>\n",
       "      <td>male</td>\n",
       "      <td>22.0</td>\n",
       "      <td>1</td>\n",
       "      <td>0</td>\n",
       "      <td>A/5 21171</td>\n",
       "      <td>7.2500</td>\n",
       "      <td>NaN</td>\n",
       "      <td>S</td>\n",
       "    </tr>\n",
       "    <tr>\n",
       "      <th>1</th>\n",
       "      <td>2</td>\n",
       "      <td>1</td>\n",
       "      <td>1</td>\n",
       "      <td>Cumings, Mrs. John Bradley (Florence Briggs Th...</td>\n",
       "      <td>female</td>\n",
       "      <td>38.0</td>\n",
       "      <td>1</td>\n",
       "      <td>0</td>\n",
       "      <td>PC 17599</td>\n",
       "      <td>71.2833</td>\n",
       "      <td>C85</td>\n",
       "      <td>C</td>\n",
       "    </tr>\n",
       "    <tr>\n",
       "      <th>2</th>\n",
       "      <td>3</td>\n",
       "      <td>1</td>\n",
       "      <td>3</td>\n",
       "      <td>Heikkinen, Miss. Laina</td>\n",
       "      <td>female</td>\n",
       "      <td>26.0</td>\n",
       "      <td>0</td>\n",
       "      <td>0</td>\n",
       "      <td>STON/O2. 3101282</td>\n",
       "      <td>7.9250</td>\n",
       "      <td>NaN</td>\n",
       "      <td>S</td>\n",
       "    </tr>\n",
       "    <tr>\n",
       "      <th>3</th>\n",
       "      <td>4</td>\n",
       "      <td>1</td>\n",
       "      <td>1</td>\n",
       "      <td>Futrelle, Mrs. Jacques Heath (Lily May Peel)</td>\n",
       "      <td>female</td>\n",
       "      <td>35.0</td>\n",
       "      <td>1</td>\n",
       "      <td>0</td>\n",
       "      <td>113803</td>\n",
       "      <td>53.1000</td>\n",
       "      <td>C123</td>\n",
       "      <td>S</td>\n",
       "    </tr>\n",
       "    <tr>\n",
       "      <th>4</th>\n",
       "      <td>5</td>\n",
       "      <td>0</td>\n",
       "      <td>3</td>\n",
       "      <td>Allen, Mr. William Henry</td>\n",
       "      <td>male</td>\n",
       "      <td>35.0</td>\n",
       "      <td>0</td>\n",
       "      <td>0</td>\n",
       "      <td>373450</td>\n",
       "      <td>8.0500</td>\n",
       "      <td>NaN</td>\n",
       "      <td>S</td>\n",
       "    </tr>\n",
       "  </tbody>\n",
       "</table>\n",
       "</div>"
      ],
      "text/plain": [
       "   PassengerId  Survived  Pclass  \\\n",
       "0            1         0       3   \n",
       "1            2         1       1   \n",
       "2            3         1       3   \n",
       "3            4         1       1   \n",
       "4            5         0       3   \n",
       "\n",
       "                                                Name     Sex   Age  SibSp  \\\n",
       "0                            Braund, Mr. Owen Harris    male  22.0      1   \n",
       "1  Cumings, Mrs. John Bradley (Florence Briggs Th...  female  38.0      1   \n",
       "2                             Heikkinen, Miss. Laina  female  26.0      0   \n",
       "3       Futrelle, Mrs. Jacques Heath (Lily May Peel)  female  35.0      1   \n",
       "4                           Allen, Mr. William Henry    male  35.0      0   \n",
       "\n",
       "   Parch            Ticket     Fare Cabin Embarked  \n",
       "0      0         A/5 21171   7.2500   NaN        S  \n",
       "1      0          PC 17599  71.2833   C85        C  \n",
       "2      0  STON/O2. 3101282   7.9250   NaN        S  \n",
       "3      0            113803  53.1000  C123        S  \n",
       "4      0            373450   8.0500   NaN        S  "
      ]
     },
     "execution_count": 4,
     "metadata": {},
     "output_type": "execute_result"
    }
   ],
   "source": [
    "# Mostrar Datos\n",
    "Data.head(5)"
   ]
  },
  {
   "cell_type": "markdown",
   "id": "546abffd-b275-42c4-9501-5bce470bc3bf",
   "metadata": {},
   "source": [
    "# Confirmación de columnas\n",
    "Data.columns"
   ]
  },
  {
   "cell_type": "code",
   "execution_count": 6,
   "id": "3bd757b0-af60-4997-b9b3-bd537311d114",
   "metadata": {},
   "outputs": [
    {
     "data": {
      "text/plain": [
       "<Axes: xlabel='Age'>"
      ]
     },
     "execution_count": 6,
     "metadata": {},
     "output_type": "execute_result"
    },
    {
     "data": {
      "image/png": "[encoded data removed]",
      "text/plain": [
       "<Figure size 600x300 with 1 Axes>"
      ]
     },
     "metadata": {},
     "output_type": "display_data"
    },
    {
     "data": {
      "image/png": "[encoded data removed]",
      "text/plain": [
       "<Figure size 600x300 with 1 Axes>"
      ]
     },
     "metadata": {},
     "output_type": "display_data"
    },
    {
     "data": {
      "image/png": "[encoded data removed]",
      "text/plain": [
       "<Figure size 600x300 with 1 Axes>"
      ]
     },
     "metadata": {},
     "output_type": "display_data"
    },
    {
     "data": {
      "image/png": "[encoded data removed]",
      "text/plain": [
       "<Figure size 600x300 with 1 Axes>"
      ]
     },
     "metadata": {},
     "output_type": "display_data"
    }
   ],
   "source": [
    "# Análisis exploratorio de datos\n",
    "plt.figure(figsize=(6, 3))\n",
    "sns.boxplot(x=Data['Fare'])\n",
    "plt.title('Identificación de Datos Atípicos', fontsize=10)\n",
    "\n",
    "plt.figure(figsize=(6, 3))\n",
    "sns.boxplot(x=Data['Pclass'])\n",
    "\n",
    "plt.figure(figsize=(6, 3))\n",
    "sns.boxplot(x=Data['Survived'])\n",
    "\n",
    "plt.figure(figsize=(6, 3))\n",
    "sns.boxplot(x=Data['Age'])"
   ]
  },
  {
   "cell_type": "code",
   "execution_count": 8,
   "id": "b64872c9-1846-4ba8-9278-0aeb88edf887",
   "metadata": {},
   "outputs": [],
   "source": [
    "# Codificar variables categóricas\n",
    "label_encoder = LabelEncoder()\n",
    "Data['Sex'] = label_encoder.fit_transform(Data['Sex'])\n",
    "Data['Embarked'] = label_encoder.fit_transform(Data['Embarked'])"
   ]
  },
  {
   "cell_type": "markdown",
   "id": "2fa0fb23-4bf3-40fa-bef6-d63ef38927ad",
   "metadata": {},
   "source": [
    "# Definir los Limites para los datos atipicos. \r\n"
   ]
  },
  {
   "cell_type": "code",
   "execution_count": 7,
   "id": "32378a3c-22c5-4c6b-9f37-3b8fb0e79f83",
   "metadata": {},
   "outputs": [
    {
     "name": "stdout",
     "output_type": "stream",
     "text": [
      "Total registros dataset: 891\n",
      "El total de datos atípicos para los registros de tarifa es 3\n",
      "\n",
      "<class 'pandas.core.frame.DataFrame'>\n",
      "RangeIndex: 891 entries, 0 to 890\n",
      "Data columns (total 12 columns):\n",
      " #   Column       Non-Null Count  Dtype  \n",
      "---  ------       --------------  -----  \n",
      " 0   PassengerId  891 non-null    int64  \n",
      " 1   Survived     891 non-null    int64  \n",
      " 2   Pclass       891 non-null    int64  \n",
      " 3   Name         891 non-null    object \n",
      " 4   Sex          891 non-null    object \n",
      " 5   Age          891 non-null    float64\n",
      " 6   SibSp        891 non-null    int64  \n",
      " 7   Parch        891 non-null    int64  \n",
      " 8   Ticket       891 non-null    object \n",
      " 9   Fare         891 non-null    float64\n",
      " 10  Cabin        204 non-null    object \n",
      " 11  Embarked     891 non-null    object \n",
      "dtypes: float64(2), int64(5), object(5)\n",
      "memory usage: 83.7+ KB\n"
     ]
    }
   ],
   "source": [
    "max_fare = 300\n",
    "min_fare = 0\n",
    "total_fare = ((Data['Fare'] < min_fare) | (Data['Fare'] > max_fare)).sum()\n",
    "\n",
    "print(\"Total registros dataset: {}\".format(len(Data)))\n",
    "print(\"El total de datos atípicos para los registros de tarifa es {}\".format(total_fare))\n",
    "print(\"\")\n",
    "Data.info()"
   ]
  },
  {
   "cell_type": "markdown",
   "id": "673e35f3-5938-44eb-be1e-eca370d5448d",
   "metadata": {},
   "source": [
    "# Seleccion de Caracteristicas"
   ]
  },
  {
   "cell_type": "code",
   "execution_count": 9,
   "id": "85e335f5-746f-4e5a-938e-fdda80bebc02",
   "metadata": {},
   "outputs": [],
   "source": [
    "features = ['Pclass', 'Sex', 'Age', 'SibSp', 'Parch', 'Fare', 'Embarked']\n",
    "X = Data[features]\n",
    "Y = Data['Survived']\n",
    "\n",
    "# Dividir los datos en conjunto de entrenamiento y prueba\n",
    "X_train, X_test, Y_train, Y_test = train_test_split(X, Y, test_size=0.25, random_state=0)"
   ]
  },
  {
   "cell_type": "code",
   "execution_count": 10,
   "id": "9f5df401-5641-4f72-a3c3-aa6f80e7da5e",
   "metadata": {},
   "outputs": [
    {
     "data": {
      "text/html": [
       "<div>\n",
       "<style scoped>\n",
       "    .dataframe tbody tr th:only-of-type {\n",
       "        vertical-align: middle;\n",
       "    }\n",
       "\n",
       "    .dataframe tbody tr th {\n",
       "        vertical-align: top;\n",
       "    }\n",
       "\n",
       "    .dataframe thead th {\n",
       "        text-align: right;\n",
       "    }\n",
       "</style>\n",
       "<table border=\"1\" class=\"dataframe\">\n",
       "  <thead>\n",
       "    <tr style=\"text-align: right;\">\n",
       "      <th></th>\n",
       "      <th>Pclass</th>\n",
       "      <th>Sex</th>\n",
       "      <th>Age</th>\n",
       "      <th>SibSp</th>\n",
       "      <th>Parch</th>\n",
       "      <th>Fare</th>\n",
       "      <th>Embarked</th>\n",
       "    </tr>\n",
       "  </thead>\n",
       "  <tbody>\n",
       "    <tr>\n",
       "      <th>105</th>\n",
       "      <td>3</td>\n",
       "      <td>1</td>\n",
       "      <td>28.0</td>\n",
       "      <td>0</td>\n",
       "      <td>0</td>\n",
       "      <td>7.8958</td>\n",
       "      <td>2</td>\n",
       "    </tr>\n",
       "    <tr>\n",
       "      <th>68</th>\n",
       "      <td>3</td>\n",
       "      <td>0</td>\n",
       "      <td>17.0</td>\n",
       "      <td>4</td>\n",
       "      <td>2</td>\n",
       "      <td>7.9250</td>\n",
       "      <td>2</td>\n",
       "    </tr>\n",
       "  </tbody>\n",
       "</table>\n",
       "</div>"
      ],
      "text/plain": [
       "     Pclass  Sex   Age  SibSp  Parch    Fare  Embarked\n",
       "105       3    1  28.0      0      0  7.8958         2\n",
       "68        3    0  17.0      4      2  7.9250         2"
      ]
     },
     "execution_count": 10,
     "metadata": {},
     "output_type": "execute_result"
    }
   ],
   "source": [
    "# Validar datos en train\n",
    "X_train.head(2)"
   ]
  },
  {
   "cell_type": "code",
   "execution_count": 11,
   "id": "9ab6fdec-4b28-4acb-afbd-507d9b93aaed",
   "metadata": {},
   "outputs": [
    {
     "data": {
      "text/html": [
       "<div>\n",
       "<style scoped>\n",
       "    .dataframe tbody tr th:only-of-type {\n",
       "        vertical-align: middle;\n",
       "    }\n",
       "\n",
       "    .dataframe tbody tr th {\n",
       "        vertical-align: top;\n",
       "    }\n",
       "\n",
       "    .dataframe thead th {\n",
       "        text-align: right;\n",
       "    }\n",
       "</style>\n",
       "<table border=\"1\" class=\"dataframe\">\n",
       "  <thead>\n",
       "    <tr style=\"text-align: right;\">\n",
       "      <th></th>\n",
       "      <th>Pclass</th>\n",
       "      <th>Sex</th>\n",
       "      <th>Age</th>\n",
       "      <th>SibSp</th>\n",
       "      <th>Parch</th>\n",
       "      <th>Fare</th>\n",
       "      <th>Embarked</th>\n",
       "    </tr>\n",
       "  </thead>\n",
       "  <tbody>\n",
       "    <tr>\n",
       "      <th>495</th>\n",
       "      <td>3</td>\n",
       "      <td>1</td>\n",
       "      <td>29.699118</td>\n",
       "      <td>0</td>\n",
       "      <td>0</td>\n",
       "      <td>14.4583</td>\n",
       "      <td>0</td>\n",
       "    </tr>\n",
       "    <tr>\n",
       "      <th>648</th>\n",
       "      <td>3</td>\n",
       "      <td>1</td>\n",
       "      <td>29.699118</td>\n",
       "      <td>0</td>\n",
       "      <td>0</td>\n",
       "      <td>7.5500</td>\n",
       "      <td>2</td>\n",
       "    </tr>\n",
       "  </tbody>\n",
       "</table>\n",
       "</div>"
      ],
      "text/plain": [
       "     Pclass  Sex        Age  SibSp  Parch     Fare  Embarked\n",
       "495       3    1  29.699118      0      0  14.4583         0\n",
       "648       3    1  29.699118      0      0   7.5500         2"
      ]
     },
     "execution_count": 11,
     "metadata": {},
     "output_type": "execute_result"
    }
   ],
   "source": [
    "# Validar datos en test\n",
    "X_test.head(2)"
   ]
  },
  {
   "cell_type": "code",
   "execution_count": 13,
   "id": "26ee2300-b60f-43a9-b8cc-bd35c42628cb",
   "metadata": {},
   "outputs": [],
   "source": [
    "# Realizar predicciones\n",
    "Prediccion = modelo_clasificacion.predict(X_test)"
   ]
  },
  {
   "cell_type": "markdown",
   "id": "9c35ee7f-d8f1-4259-84c5-7a83630a69a8",
   "metadata": {},
   "source": [
    "# Matriz de confucion"
   ]
  },
  {
   "cell_type": "code",
   "execution_count": 15,
   "id": "74c0c72e-c17b-4458-a3bb-6264850a95d7",
   "metadata": {},
   "outputs": [
    {
     "data": {
      "image/png": "[encoded data removed]",
      "text/plain": [
       "<Figure size 640x480 with 2 Axes>"
      ]
     },
     "metadata": {},
     "output_type": "display_data"
    }
   ],
   "source": [
    "conf_matrix = confusion_matrix(Y_test, Prediccion)\n",
    "sns.heatmap(conf_matrix, annot=True, fmt='d', cmap='Blues')\n",
    "plt.xlabel('Predicted')\n",
    "plt.ylabel('Actual')\n",
    "plt.title('Confusion Matrix')\n",
    "plt.show()"
   ]
  },
  {
   "cell_type": "markdown",
   "id": "87bc34af-264f-47df-ac6e-99fc17478c04",
   "metadata": {},
   "source": [
    "# Coheficientes del Modelo"
   ]
  },
  {
   "cell_type": "code",
   "execution_count": 16,
   "id": "ef538dd2-58d9-4207-a7a5-1e2d5b687be0",
   "metadata": {},
   "outputs": [
    {
     "name": "stdout",
     "output_type": "stream",
     "text": [
      "    Feature  Coefficient\n",
      "0    Pclass    -0.971762\n",
      "1       Sex    -2.599743\n",
      "2       Age    -0.038523\n",
      "3     SibSp    -0.338189\n",
      "4     Parch    -0.047468\n",
      "5      Fare     0.001429\n",
      "6  Embarked    -0.220508\n"
     ]
    }
   ],
   "source": [
    "coefficients = pd.DataFrame({\n",
    "    'Feature': features,\n",
    "    'Coefficient': modelo_clasificacion.coef_[0]\n",
    "})\n",
    "print(coefficients)"
   ]
  },
  {
   "cell_type": "code",
   "execution_count": 17,
   "id": "650ca187-820f-4828-8020-08bb58b5bf2d",
   "metadata": {},
   "outputs": [
    {
     "data": {
      "image/png": "[encoded data removed]",
      "text/plain": [
       "<Figure size 1000x600 with 1 Axes>"
      ]
     },
     "metadata": {},
     "output_type": "display_data"
    }
   ],
   "source": [
    "# Gráfica de Coeficientes\n",
    "plt.figure(figsize=(10, 6))\n",
    "sns.barplot(x='Coefficient', y='Feature', data=coefficients)\n",
    "plt.title('Coeficientes del Modelo de Regresión Logística')\n",
    "plt.show()"
   ]
  },
  {
   "cell_type": "markdown",
   "id": "d7081c2c-a6a9-4f3f-9df3-521fb29e36e8",
   "metadata": {},
   "source": [
    "# Análisis de Resultados  \n",
    "\n",
    "## Datos Explorados:  \n",
    "- El dataset del Titanic fue preparado y explorado. Contiene **891 registros** y **12 columnas**, con información como \n",
    "edad, género, tarifa, y si el pasajero sobrevivió o no.  \n",
    "-Se identificaron y manejaron valores faltantes en las columnas **Age** y **Embarked**, y se codificaron las variables\n",
    "categóricas (**Sex** y **Embarked**) usando un `LabelEncoder`.  \n",
    "\n",
    "## Selección de características y entrenamiento:  \n",
    "- Las características seleccionadas fueron: **Pclass**, **Sex**, **Age**, **SibSp**, **Parch**, **Fare**, y **Embarked**.  \n",
    "- El dataset se dividió en un conjunto de entrenamiento (**75%**) y prueba (**25%**).  \n",
    "\n",
    "## Evaluación del modelo:  \n",
    "\n",
    "### Matriz de confusión:  \n",
    "- El modelo produjo una matriz de confusión que permite evaluar:  \n",
    "  - **Verdaderos positivos (TP)**: Casos correctamente clasificados como sobrevivientes.  \n",
    "  - **Falsos positivos (FP)**: Casos erróneamente clasificados como sobrevivientes.  \n",
    "  - **Verdaderos negativos (TN)**: Casos correctamente clasificados como no sobrevivientes.  \n",
    "  - **Falsos negativos (FN)**: Casos erróneamente clasificados como no sobrevivientes.  \n",
    "- Visualizada con un heatmap para mayor claridad.  \n",
    "\n",
    "### Coeficientes del modelo:  \n",
    "- Los coeficientes asociados a cada característica indican su importancia relativa en la predicción:  \n",
    "  - **Sex** y **Pclass** tienen coeficientes negativos significativos, lo que sugiere que estas variables tienen un impacto \n",
    "considerable en la predicción de supervivencia.  \n",
    "  - **Fare** tiene un coeficiente positivo, aunque pequeño, indicando una relación más débil.  \n"
   ]
  },
  {
   "cell_type": "code",
   "execution_count": null,
   "id": "5cf5663a-5d4e-4638-8a79-5b9b12784355",
   "metadata": {},
   "outputs": [],
   "source": []
  }
 ],
 "metadata": {
  "kernelspec": {
   "display_name": "Python 3 (ipykernel)",
   "language": "python",
   "name": "python3"
  },
  "language_info": {
   "codemirror_mode": {
    "name": "ipython",
    "version": 3
   },
   "file_extension": ".py",
   "mimetype": "text/x-python",
   "name": "python",
   "nbconvert_exporter": "python",
   "pygments_lexer": "ipython3",
   "version": "3.12.4"
  }
 },
 "nbformat": 4,
 "nbformat_minor": 5
}
